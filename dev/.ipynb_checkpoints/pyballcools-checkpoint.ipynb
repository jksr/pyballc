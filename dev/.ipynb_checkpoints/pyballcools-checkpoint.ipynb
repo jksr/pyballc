{
 "cells": [
  {
   "cell_type": "code",
   "execution_count": 1,
   "id": "2ddf6222",
   "metadata": {
    "ExecuteTime": {
     "end_time": "2024-03-20T15:56:33.842567Z",
     "start_time": "2024-03-20T15:56:30.989532Z"
    }
   },
   "outputs": [],
   "source": [
    "import subprocess\n",
    "import pandas as pd\n",
    "# import warnings"
   ]
  },
  {
   "cell_type": "code",
   "execution_count": 2,
   "id": "f14fe9f6",
   "metadata": {
    "ExecuteTime": {
     "end_time": "2024-03-20T15:56:33.851610Z",
     "start_time": "2024-03-20T15:56:33.844252Z"
    },
    "code_folding": []
   },
   "outputs": [],
   "source": [
    "def _wrapper(prog=None, \n",
    "             implicit=None, \n",
    "             explicit=None,\n",
    "             switchable=None,\n",
    "             postproc=None):\n",
    "    try:\n",
    "        p = subprocess.Popen(\n",
    "            ['ballcools',prog,'-h'],\n",
    "            stdout=subprocess.PIPE,\n",
    "            stderr=subprocess.PIPE,\n",
    "        )\n",
    "        help_str = p.communicate()[0].decode()\n",
    "    except OSError:#TODO this will never happen now. \n",
    "        not_implemented = True\n",
    "\n",
    "    \n",
    "        \n",
    "    if implicit is not None:\n",
    "        if not isinstance(implicit, list):\n",
    "            implicit = [implicit]\n",
    "    else:\n",
    "        implicit = []\n",
    "        \n",
    "    if explicit is not None:\n",
    "        if not isinstance(explicit, list):\n",
    "            explicit = [explicit]\n",
    "        explicit = set(explicit)\n",
    "    else:\n",
    "        explicit = set()\n",
    "\n",
    "    if switchable is not None:\n",
    "        if not isinstance(switchable, list):\n",
    "            switchable = [switchable]\n",
    "        switchable = set(switchable)\n",
    "    else:\n",
    "        switchable = set()\n",
    "        \n",
    "    def decorator(func):\n",
    "        def wrapped(*args, **kwargs):\n",
    "            if len(set(kwargs.keys())-explicit-switchable)>0:\n",
    "                raise #TODO\n",
    "            cmds = ['ballcools', prog] + list(args)\n",
    "            for k in kwargs:\n",
    "                if k in explicit:\n",
    "                    cmds.extend([f'-{k}', kwargs[k]])\n",
    "                elif k in switchable:\n",
    "                    cmds.extend([f'-{k}'])\n",
    "                    \n",
    "            p = subprocess.Popen(cmds,\n",
    "                                 stdout=subprocess.PIPE,\n",
    "                                 stderr=subprocess.PIPE,\n",
    "                                )\n",
    "            stdout_data, stderr_data = p.communicate()\n",
    "            stdout_data = stdout_data.decode()\n",
    "            stderr_data = stderr_data.decode()\n",
    "\n",
    "            if len(stderr_data)>0:\n",
    "                raise Exception(stderr_data)\n",
    "            if postproc is not None:\n",
    "                return postproc(stdout_data, prog, explicit, switchable)\n",
    "                \n",
    "            return stdout_data\n",
    "        \n",
    "        \n",
    "        wrapped.__doc__ = help_str\n",
    "        return wrapped\n",
    "    return decorator\n",
    "            "
   ]
  },
  {
   "cell_type": "code",
   "execution_count": 3,
   "id": "f6df24f9",
   "metadata": {
    "ExecuteTime": {
     "end_time": "2024-03-20T15:56:33.859942Z",
     "start_time": "2024-03-20T15:56:33.852901Z"
    },
    "code_folding": []
   },
   "outputs": [],
   "source": [
    "def parse_mcrecords(stdout_data, prog=None, explicit=None, switchable=None):\n",
    "    try:\n",
    "        if len(stdout_data)==0:\n",
    "            return pd.DataFrame()\n",
    "        else:\n",
    "            df = pd.DataFrame(l.split() for l in stdout_data.split('\\n') if len(l)>0)\n",
    "            df.columns = ['chr','pos','strand','context','mc','cov', 'dum'] if df.shape[1]>4 else ['chr','pos','mc','cov']\n",
    "            if 'dum' in df.columns:\n",
    "                df = df.drop(columns='dum')\n",
    "            return df\n",
    "    except:\n",
    "        return stdout_data.strip()#.split('\\n')"
   ]
  },
  {
   "cell_type": "code",
   "execution_count": 9,
   "id": "e5be438a",
   "metadata": {
    "ExecuteTime": {
     "end_time": "2024-03-20T16:02:58.128583Z",
     "start_time": "2024-03-20T16:02:58.124413Z"
    }
   },
   "outputs": [],
   "source": [
    "def _parse_refs(stdout_data, prog=None, explicit=None, switchable=None):\n",
    "    refs_and_lengths = stdout_data.split(\":\")[1].strip().split(\",\")\n",
    "\n",
    "    refs = []\n",
    "    lengths = []\n",
    "\n",
    "    for ref_len in refs_and_lengths:\n",
    "        ref, length = ref_len.strip().split(\" [\")\n",
    "        refs.append(ref.strip())\n",
    "        lengths.append(int(length[:-1]))  # Removing ']' from length and converting to integer\n",
    "\n",
    "    return pd.DataFrame({'reference': refs, 'length': lengths})\n",
    "\n",
    "def _parse_ballc_header(stdout_data, prog=None, explicit=None, switchable=None):\n",
    "    refs_and_lengths = stdout_data.split(\":\")[1].strip().split(\",\")\n",
    "\n",
    "    refs = []\n",
    "    lengths = []\n",
    "\n",
    "    for ref_len in refs_and_lengths:\n",
    "        ref, length = ref_len.strip().split(\" [\")\n",
    "        refs.append(ref.strip())\n",
    "        lengths.append(int(length[:-1]))  # Removing ']' from length and converting to integer\n",
    "\n",
    "    return pd.DataFrame({'reference': refs, 'length': lengths})\n",
    "\n",
    "def parse_view(stdout_data, prog=None, explicit=None, switchable=None):\n",
    "    pass\n",
    "#     if "
   ]
  },
  {
   "cell_type": "code",
   "execution_count": 4,
   "id": "5fcf986f",
   "metadata": {
    "ExecuteTime": {
     "end_time": "2024-03-20T15:56:33.970472Z",
     "start_time": "2024-03-20T15:56:33.861423Z"
    }
   },
   "outputs": [],
   "source": [
    "@_wrapper(prog='view', implicit='ballcpath', switchable=['d','f'], postproc=parse_mcrecords)\n",
    "def view(*args, **kwargs):\n",
    "    pass\n",
    "\n",
    "@_wrapper(prog='index', implicit='ballcpath')\n",
    "def index(*args, **kwargs):\n",
    "    pass\n",
    "\n",
    "@_wrapper(prog='a2b', implicit=['allcpath','ballcpath','chrompath'], explicit=['a','n'], switchable='b')\n",
    "def allc_to_ballc(*args, **kwargs):\n",
    "    pass\n",
    "\n",
    "@_wrapper(prog='b2a', implicit=['ballcpath','allcpath',], explicit='x')\n",
    "def ballc_to_allc(*args, **kwargs):\n",
    "    pass\n",
    "\n",
    "@_wrapper(prog='meta', implicit=['fastapath','cmetapath',])\n",
    "def extract_cmeta(*args, **kwargs):\n",
    "    pass\n",
    "\n",
    "@_wrapper(prog='query', implicit=['ballcpath','genomeranges',], explicit=['c','x','s','o'], postproc=parse_mcrecords)\n",
    "def query(*args, **kwargs):\n",
    "    pass\n",
    "\n",
    "@_wrapper(prog='merge', implicit=['outputpath', 'ballcpaths',], explicit=['f','k'])\n",
    "def merge(*args, **kwargs):\n",
    "    pass"
   ]
  },
  {
   "cell_type": "code",
   "execution_count": 8,
   "id": "20f20a11",
   "metadata": {
    "ExecuteTime": {
     "end_time": "2024-03-20T15:58:15.516453Z",
     "start_time": "2024-03-20T15:58:15.456607Z"
    }
   },
   "outputs": [
    {
     "data": {
      "text/html": [
       "<div>\n",
       "<style scoped>\n",
       "    .dataframe tbody tr th:only-of-type {\n",
       "        vertical-align: middle;\n",
       "    }\n",
       "\n",
       "    .dataframe tbody tr th {\n",
       "        vertical-align: top;\n",
       "    }\n",
       "\n",
       "    .dataframe thead th {\n",
       "        text-align: right;\n",
       "    }\n",
       "</style>\n",
       "<table border=\"1\" class=\"dataframe\">\n",
       "  <thead>\n",
       "    <tr style=\"text-align: right;\">\n",
       "      <th></th>\n",
       "      <th>chr</th>\n",
       "      <th>pos</th>\n",
       "      <th>mc</th>\n",
       "      <th>cov</th>\n",
       "    </tr>\n",
       "  </thead>\n",
       "  <tbody>\n",
       "    <tr>\n",
       "      <th>0</th>\n",
       "      <td>chrY</td>\n",
       "      <td>56887751</td>\n",
       "      <td>0</td>\n",
       "      <td>1</td>\n",
       "    </tr>\n",
       "    <tr>\n",
       "      <th>1</th>\n",
       "      <td>chrY</td>\n",
       "      <td>56887753</td>\n",
       "      <td>0</td>\n",
       "      <td>1</td>\n",
       "    </tr>\n",
       "    <tr>\n",
       "      <th>2</th>\n",
       "      <td>chrY</td>\n",
       "      <td>56887759</td>\n",
       "      <td>0</td>\n",
       "      <td>1</td>\n",
       "    </tr>\n",
       "    <tr>\n",
       "      <th>3</th>\n",
       "      <td>chrY</td>\n",
       "      <td>56887761</td>\n",
       "      <td>0</td>\n",
       "      <td>1</td>\n",
       "    </tr>\n",
       "  </tbody>\n",
       "</table>\n",
       "</div>"
      ],
      "text/plain": [
       "    chr       pos mc cov\n",
       "0  chrY  56887751  0   1\n",
       "1  chrY  56887753  0   1\n",
       "2  chrY  56887759  0   1\n",
       "3  chrY  56887761  0   1"
      ]
     },
     "execution_count": 8,
     "metadata": {},
     "output_type": "execute_result"
    }
   ],
   "source": [
    "query('/gale/netapp/home/wtian/hba/mapping2/hba_pool10_h1930001_A46/HBA_200622_H1930001_A46_1_P2-1-F3/ballc/HBA_200622_H1930001_A46_1_P2-1-F3-A1.ballc', \n",
    "      'chrY:56887751-')"
   ]
  },
  {
   "cell_type": "code",
   "execution_count": 1,
   "id": "cc3d1a95",
   "metadata": {
    "ExecuteTime": {
     "end_time": "2024-03-20T07:43:49.284168Z",
     "start_time": "2024-03-20T07:43:46.334779Z"
    },
    "code_folding": [
     3,
     16,
     87
    ]
   },
   "outputs": [],
   "source": [
    "import subprocess\n",
    "import pandas as pd\n",
    "\n",
    "def parse_mcrecords(stdout_data):\n",
    "    try:\n",
    "        if len(stdout_data)==0:\n",
    "            return pd.DataFrame()\n",
    "        else:\n",
    "            df = pd.DataFrame(l.split() for l in stdout_data.split('\\n') if len(l)>0)\n",
    "            df.columns = ['chr','pos','strand','context','mc','cov', 'dum'] if df.shape[1]>4 else ['chr','pos','mc','cov']\n",
    "            if 'dum' in df.columns:\n",
    "                df = df.drop(columns='dum')\n",
    "            return df\n",
    "    except:\n",
    "        return stdout_data.strip()#.split('\\n')\n",
    "\n",
    "def _wrapper(prog=None, \n",
    "             implicit=None, \n",
    "             explicit=None,\n",
    "             switchable=None,\n",
    "             parse=False):\n",
    "    try:\n",
    "        p = subprocess.Popen(\n",
    "            ['ballcools',prog,'-h'],\n",
    "            stdout=subprocess.PIPE,\n",
    "            stderr=subprocess.PIPE,\n",
    "        )\n",
    "        help_str = p.communicate()[0].decode()\n",
    "    except OSError:#TODO this will never happen now. \n",
    "        not_implemented = True\n",
    "\n",
    "    \n",
    "        \n",
    "    if implicit is not None:\n",
    "        if not isinstance(implicit, list):\n",
    "            implicit = [implicit]\n",
    "    else:\n",
    "        implicit = []\n",
    "        \n",
    "    if explicit is not None:\n",
    "        if not isinstance(explicit, list):\n",
    "            explicit = [explicit]\n",
    "        explicit = set(explicit)\n",
    "    else:\n",
    "        explicit = set()\n",
    "\n",
    "    if switchable is not None:\n",
    "        if not isinstance(switchable, list):\n",
    "            switchable = [switchable]\n",
    "        switchable = set(switchable)\n",
    "    else:\n",
    "        switchable = set()\n",
    "        \n",
    "    def decorator(func):\n",
    "        def wrapped(*args, **kwargs):\n",
    "            if len(set(kwargs.keys())-explicit-switchable)>0:\n",
    "                raise #TODO\n",
    "            cmds = ['ballcools', prog] + list(args)\n",
    "            for k in kwargs:\n",
    "                if k in explicit:\n",
    "                    cmds.extend([f'-{k}', kwargs[k]])\n",
    "                elif k in switchable:\n",
    "                    cmds.extend([f'-{k}'])\n",
    "                    \n",
    "            p = subprocess.Popen(cmds,\n",
    "                                 stdout=subprocess.PIPE,\n",
    "                                 stderr=subprocess.PIPE,\n",
    "                                )\n",
    "            stdout_data, stderr_data = p.communicate()\n",
    "            stdout_data = stdout_data.decode()\n",
    "            stderr_data = stderr_data.decode()\n",
    "\n",
    "            if len(stderr_data)>0:\n",
    "                raise Exception(stderr_data)\n",
    "            if parse:\n",
    "                try:\n",
    "                    stdout_data = parse_mcrecords(stdout_data)\n",
    "                except:\n",
    "                    raise\n",
    "                \n",
    "            return stdout_data\n",
    "        \n",
    "        \n",
    "        wrapped.__doc__ = help_str\n",
    "        return wrapped\n",
    "    return decorator\n",
    "            \n",
    "class PyBallC:\n",
    "    @staticmethod\n",
    "    @_wrapper(prog='view', implicit='ballcpath', switchable=['d','f'], parse=True)\n",
    "    def view(*args, **kwargs):\n",
    "        pass\n",
    "\n",
    "    @staticmethod\n",
    "    @_wrapper(prog='index', implicit='ballcpath')\n",
    "    def index(*args, **kwargs):\n",
    "        pass\n",
    "\n",
    "    @staticmethod\n",
    "    @_wrapper(prog='a2b', implicit=['allcpath','ballcpath','chrompath'], explicit=['a','n'], switchable='b')\n",
    "    def allc_to_ballc(*args, **kwargs):\n",
    "        pass\n",
    "\n",
    "    @staticmethod\n",
    "    @_wrapper(prog='b2a', implicit=['ballcpath','allcpath',], explicit='x')\n",
    "    def ballc_to_allc(*args, **kwargs):\n",
    "        pass\n",
    "\n",
    "    @staticmethod\n",
    "    @_wrapper(prog='meta', implicit=['fastapath','cmetapath',])\n",
    "    def extract_cmeta(*args, **kwargs):\n",
    "        pass\n",
    "\n",
    "    @staticmethod\n",
    "    @_wrapper(prog='query', implicit=['ballcpath','genomeranges',], explicit=['c','x','s','o'], parse=True)\n",
    "    def query(*args, **kwargs):\n",
    "        pass\n",
    "\n",
    "    @staticmethod\n",
    "    @_wrapper(prog='merge', implicit=['outputpath', 'ballcpaths',], explicit=['f','k'])\n",
    "    def merge(*args, **kwargs):\n",
    "        pass\n",
    "    "
   ]
  },
  {
   "cell_type": "code",
   "execution_count": 2,
   "id": "0bc2f1ff",
   "metadata": {
    "ExecuteTime": {
     "end_time": "2024-03-20T07:43:49.348228Z",
     "start_time": "2024-03-20T07:43:49.287334Z"
    }
   },
   "outputs": [
    {
     "data": {
      "text/html": [
       "<div>\n",
       "<style scoped>\n",
       "    .dataframe tbody tr th:only-of-type {\n",
       "        vertical-align: middle;\n",
       "    }\n",
       "\n",
       "    .dataframe tbody tr th {\n",
       "        vertical-align: top;\n",
       "    }\n",
       "\n",
       "    .dataframe thead th {\n",
       "        text-align: right;\n",
       "    }\n",
       "</style>\n",
       "<table border=\"1\" class=\"dataframe\">\n",
       "  <thead>\n",
       "    <tr style=\"text-align: right;\">\n",
       "      <th></th>\n",
       "      <th>chr</th>\n",
       "      <th>pos</th>\n",
       "      <th>mc</th>\n",
       "      <th>cov</th>\n",
       "    </tr>\n",
       "  </thead>\n",
       "  <tbody>\n",
       "    <tr>\n",
       "      <th>0</th>\n",
       "      <td>chrY</td>\n",
       "      <td>267050</td>\n",
       "      <td>1</td>\n",
       "      <td>1</td>\n",
       "    </tr>\n",
       "    <tr>\n",
       "      <th>1</th>\n",
       "      <td>chrY</td>\n",
       "      <td>267058</td>\n",
       "      <td>0</td>\n",
       "      <td>1</td>\n",
       "    </tr>\n",
       "    <tr>\n",
       "      <th>2</th>\n",
       "      <td>chrY</td>\n",
       "      <td>267060</td>\n",
       "      <td>1</td>\n",
       "      <td>1</td>\n",
       "    </tr>\n",
       "    <tr>\n",
       "      <th>3</th>\n",
       "      <td>chrY</td>\n",
       "      <td>267062</td>\n",
       "      <td>0</td>\n",
       "      <td>1</td>\n",
       "    </tr>\n",
       "    <tr>\n",
       "      <th>4</th>\n",
       "      <td>chrY</td>\n",
       "      <td>267063</td>\n",
       "      <td>0</td>\n",
       "      <td>1</td>\n",
       "    </tr>\n",
       "    <tr>\n",
       "      <th>5</th>\n",
       "      <td>chrY</td>\n",
       "      <td>267067</td>\n",
       "      <td>0</td>\n",
       "      <td>1</td>\n",
       "    </tr>\n",
       "    <tr>\n",
       "      <th>6</th>\n",
       "      <td>chrY</td>\n",
       "      <td>267070</td>\n",
       "      <td>0</td>\n",
       "      <td>1</td>\n",
       "    </tr>\n",
       "    <tr>\n",
       "      <th>7</th>\n",
       "      <td>chrY</td>\n",
       "      <td>267071</td>\n",
       "      <td>0</td>\n",
       "      <td>1</td>\n",
       "    </tr>\n",
       "    <tr>\n",
       "      <th>8</th>\n",
       "      <td>chrY</td>\n",
       "      <td>267072</td>\n",
       "      <td>0</td>\n",
       "      <td>1</td>\n",
       "    </tr>\n",
       "    <tr>\n",
       "      <th>9</th>\n",
       "      <td>chrY</td>\n",
       "      <td>267075</td>\n",
       "      <td>0</td>\n",
       "      <td>1</td>\n",
       "    </tr>\n",
       "    <tr>\n",
       "      <th>10</th>\n",
       "      <td>chrY</td>\n",
       "      <td>267077</td>\n",
       "      <td>0</td>\n",
       "      <td>1</td>\n",
       "    </tr>\n",
       "    <tr>\n",
       "      <th>11</th>\n",
       "      <td>chrY</td>\n",
       "      <td>267087</td>\n",
       "      <td>0</td>\n",
       "      <td>1</td>\n",
       "    </tr>\n",
       "    <tr>\n",
       "      <th>12</th>\n",
       "      <td>chrY</td>\n",
       "      <td>267088</td>\n",
       "      <td>0</td>\n",
       "      <td>1</td>\n",
       "    </tr>\n",
       "    <tr>\n",
       "      <th>13</th>\n",
       "      <td>chrY</td>\n",
       "      <td>267097</td>\n",
       "      <td>1</td>\n",
       "      <td>1</td>\n",
       "    </tr>\n",
       "  </tbody>\n",
       "</table>\n",
       "</div>"
      ],
      "text/plain": [
       "     chr     pos mc cov\n",
       "0   chrY  267050  1   1\n",
       "1   chrY  267058  0   1\n",
       "2   chrY  267060  1   1\n",
       "3   chrY  267062  0   1\n",
       "4   chrY  267063  0   1\n",
       "5   chrY  267067  0   1\n",
       "6   chrY  267070  0   1\n",
       "7   chrY  267071  0   1\n",
       "8   chrY  267072  0   1\n",
       "9   chrY  267075  0   1\n",
       "10  chrY  267077  0   1\n",
       "11  chrY  267087  0   1\n",
       "12  chrY  267088  0   1\n",
       "13  chrY  267097  1   1"
      ]
     },
     "execution_count": 2,
     "metadata": {},
     "output_type": "execute_result"
    }
   ],
   "source": [
    "PyBallC.query('./ballc/HBA_191114_H1930001_CB60_CBV_1_P1-1-B1-A1.ballc', 'chrY:267050-267100')"
   ]
  },
  {
   "cell_type": "code",
   "execution_count": 4,
   "id": "7c309f62",
   "metadata": {
    "ExecuteTime": {
     "end_time": "2024-03-20T07:44:17.998007Z",
     "start_time": "2024-03-20T07:44:17.944758Z"
    }
   },
   "outputs": [
    {
     "data": {
      "text/html": [
       "<div>\n",
       "<style scoped>\n",
       "    .dataframe tbody tr th:only-of-type {\n",
       "        vertical-align: middle;\n",
       "    }\n",
       "\n",
       "    .dataframe tbody tr th {\n",
       "        vertical-align: top;\n",
       "    }\n",
       "\n",
       "    .dataframe thead th {\n",
       "        text-align: right;\n",
       "    }\n",
       "</style>\n",
       "<table border=\"1\" class=\"dataframe\">\n",
       "  <thead>\n",
       "    <tr style=\"text-align: right;\">\n",
       "      <th></th>\n",
       "    </tr>\n",
       "  </thead>\n",
       "  <tbody>\n",
       "  </tbody>\n",
       "</table>\n",
       "</div>"
      ],
      "text/plain": [
       "Empty DataFrame\n",
       "Columns: []\n",
       "Index: []"
      ]
     },
     "execution_count": 4,
     "metadata": {},
     "output_type": "execute_result"
    }
   ],
   "source": [
    "PyBallC.query('./ballc/HBA_191114_H1930001_CB60_CBV_1_P1-1-B1-A1.ballc', 'chrY:267044-267049')"
   ]
  },
  {
   "cell_type": "code",
   "execution_count": 5,
   "id": "af49a997",
   "metadata": {
    "ExecuteTime": {
     "end_time": "2024-03-20T07:44:24.932327Z",
     "start_time": "2024-03-20T07:44:24.906838Z"
    },
    "scrolled": true
   },
   "outputs": [
    {
     "data": {
      "text/plain": [
       "'References [length]: chr1 [248956422],chr10 [133797422],chr11 [135086622],chr11_KI270721v1_random [100316],chr12 [133275309],chr13 [114364328],chr14 [107043718],chr14_GL000009v2_random [201709],chr14_GL000225v1_random [211173],chr14_KI270722v1_random [194050],chr14_GL000194v1_random [191469],chr14_KI270723v1_random [38115],chr14_KI270724v1_random [39555],chr14_KI270725v1_random [172810],chr14_KI270726v1_random [43739],chr15 [101991189],chr15_KI270727v1_random [448248],chr16 [90338345],chr16_KI270728v1_random [1872759],chr17 [83257441],chr17_GL000205v2_random [185591],chr17_KI270729v1_random [280839],chr17_KI270730v1_random [112551],chr18 [80373285],chr19 [58617616],chr1_KI270706v1_random [175055],chr1_KI270707v1_random [32032],chr1_KI270708v1_random [127682],chr1_KI270709v1_random [66860],chr1_KI270710v1_random [40176],chr1_KI270711v1_random [42210],chr1_KI270712v1_random [176043],chr1_KI270713v1_random [40745],chr1_KI270714v1_random [41717],chr2 [242193529],chr20 [64444167],chr21 [46709983],chr22 [50818468],chr22_KI270731v1_random [150754],chr22_KI270732v1_random [41543],chr22_KI270733v1_random [179772],chr22_KI270734v1_random [165050],chr22_KI270735v1_random [42811],chr22_KI270736v1_random [181920],chr22_KI270737v1_random [103838],chr22_KI270738v1_random [99375],chr22_KI270739v1_random [73985],chr2_KI270715v1_random [161471],chr2_KI270716v1_random [153799],chr3 [198295559],chr3_GL000221v1_random [155397],chr4 [190214555],chr4_GL000008v2_random [209709],chr5 [181538259],chr5_GL000208v1_random [92689],chr6 [170805979],chr7 [159345973],chr8 [145138636],chr9 [138394717],chr9_KI270717v1_random [40062],chr9_KI270718v1_random [38054],chr9_KI270719v1_random [176845],chr9_KI270720v1_random [39050],chr1_KI270762v1_alt [354444],chr1_KI270766v1_alt [256271],chr1_KI270760v1_alt [109528],chr1_KI270765v1_alt [185285],chr1_GL383518v1_alt [182439],chr1_GL383519v1_alt [110268],chr1_GL383520v2_alt [366580],chr1_KI270764v1_alt [50258],chr1_KI270763v1_alt [911658],chr1_KI270759v1_alt [425601],chr1_KI270761v1_alt [165834],chr2_KI270770v1_alt [136240],chr2_KI270773v1_alt [70887],chr2_KI270774v1_alt [223625],chr2_KI270769v1_alt [120616],chr2_GL383521v1_alt [143390],chr2_KI270772v1_alt [133041],chr2_KI270775v1_alt [138019],chr2_KI270771v1_alt [110395],chr2_KI270768v1_alt [110099],chr2_GL582966v2_alt [96131],chr2_GL383522v1_alt [123821],chr2_KI270776v1_alt [174166],chr2_KI270767v1_alt [161578],chr3_JH636055v2_alt [173151],chr3_KI270783v1_alt [109187],chr3_KI270780v1_alt [224108],chr3_GL383526v1_alt [180671],chr3_KI270777v1_alt [173649],chr3_KI270778v1_alt [248252],chr3_KI270781v1_alt [113034],chr3_KI270779v1_alt [205312],chr3_KI270782v1_alt [162429],chr3_KI270784v1_alt [184404],chr4_KI270790v1_alt [220246],chr4_GL383528v1_alt [376187],chr4_KI270787v1_alt [111943],chr4_GL000257v2_alt [586476],chr4_KI270788v1_alt [158965],chr4_GL383527v1_alt [164536],chr4_KI270785v1_alt [119912],chr4_KI270789v1_alt [205944],chr4_KI270786v1_alt [244096],chr5_KI270793v1_alt [126136],chr5_KI270792v1_alt [179043],chr5_KI270791v1_alt [195710],chr5_GL383532v1_alt [82728],chr5_GL949742v1_alt [226852],chr5_KI270794v1_alt [164558],chr5_GL339449v2_alt [1612928],chr5_GL383530v1_alt [101241],chr5_KI270796v1_alt [172708],chr5_GL383531v1_alt [173459],chr5_KI270795v1_alt [131892],chr6_GL000250v2_alt [4672374],chr6_KI270800v1_alt [175808],chr6_KI270799v1_alt [152148],chr6_GL383533v1_alt [124736],chr6_KI270801v1_alt [870480],chr6_KI270802v1_alt [75005],chr6_KB021644v2_alt [185823],chr6_KI270797v1_alt [197536],chr6_KI270798v1_alt [271782],chr7_KI270804v1_alt [157952],chr7_KI270809v1_alt [209586],chr7_KI270806v1_alt [158166],chr7_GL383534v2_alt [119183],chr7_KI270803v1_alt [1111570],chr7_KI270808v1_alt [271455],chr7_KI270807v1_alt [126434],chr7_KI270805v1_alt [209988],chr8_KI270818v1_alt [145606],chr8_KI270812v1_alt [282736],chr8_KI270811v1_alt [292436],chr8_KI270821v1_alt [985506],chr8_KI270813v1_alt [300230],chr8_KI270822v1_alt [624492],chr8_KI270814v1_alt [141812],chr8_KI270810v1_alt [374415],chr8_KI270819v1_alt [133535],chr8_KI270820v1_alt [36640],chr8_KI270817v1_alt [158983],chr8_KI270816v1_alt [305841],chr8_KI270815v1_alt [132244],chr9_GL383539v1_alt [162988],chr9_GL383540v1_alt [71551],chr9_GL383541v1_alt [171286],chr9_GL383542v1_alt [60032],chr9_KI270823v1_alt [439082],chr10_GL383545v1_alt [179254],chr10_KI270824v1_alt [181496],chr10_GL383546v1_alt [309802],chr10_KI270825v1_alt [188315],chr11_KI270832v1_alt [210133],chr11_KI270830v1_alt [177092],chr11_KI270831v1_alt [296895],chr11_KI270829v1_alt [204059],chr11_GL383547v1_alt [154407],chr11_JH159136v1_alt [200998],chr11_JH159137v1_alt [191409],chr11_KI270827v1_alt [67707],chr11_KI270826v1_alt [186169],chr12_GL877875v1_alt [167313],chr12_GL877876v1_alt [408271],chr12_KI270837v1_alt [40090],chr12_GL383549v1_alt [120804],chr12_KI270835v1_alt [238139],chr12_GL383550v2_alt [169178],chr12_GL383552v1_alt [138655],chr12_GL383553v2_alt [152874],chr12_KI270834v1_alt [119498],chr12_GL383551v1_alt [184319],chr12_KI270833v1_alt [76061],chr12_KI270836v1_alt [56134],chr13_KI270840v1_alt [191684],chr13_KI270839v1_alt [180306],chr13_KI270843v1_alt [103832],chr13_KI270841v1_alt [169134],chr13_KI270838v1_alt [306913],chr13_KI270842v1_alt [37287],chr14_KI270844v1_alt [322166],chr14_KI270847v1_alt [1511111],chr14_KI270845v1_alt [180703],chr14_KI270846v1_alt [1351393],chr15_KI270852v1_alt [478999],chr15_KI270851v1_alt [263054],chr15_KI270848v1_alt [327382],chr15_GL383554v1_alt [296527],chr15_KI270849v1_alt [244917],chr15_GL383555v2_alt [388773],chr15_KI270850v1_alt [430880],chr16_KI270854v1_alt [134193],chr16_KI270856v1_alt [63982],chr16_KI270855v1_alt [232857],chr16_KI270853v1_alt [2659700],chr16_GL383556v1_alt [192462],chr16_GL383557v1_alt [89672],chr17_GL383563v3_alt [375691],chr17_KI270862v1_alt [391357],chr17_KI270861v1_alt [196688],chr17_KI270857v1_alt [2877074],chr17_JH159146v1_alt [278131],chr17_JH159147v1_alt [70345],chr17_GL383564v2_alt [133151],chr17_GL000258v2_alt [1821992],chr17_GL383565v1_alt [223995],chr17_KI270858v1_alt [235827],chr17_KI270859v1_alt [108763],chr17_GL383566v1_alt [90219],chr17_KI270860v1_alt [178921],chr18_KI270864v1_alt [111737],chr18_GL383567v1_alt [289831],chr18_GL383570v1_alt [164789],chr18_GL383571v1_alt [198278],chr18_GL383568v1_alt [104552],chr18_GL383569v1_alt [167950],chr18_GL383572v1_alt [159547],chr18_KI270863v1_alt [167999],chr19_KI270868v1_alt [61734],chr19_KI270865v1_alt [52969],chr19_GL383573v1_alt [385657],chr19_GL383575v2_alt [170222],chr19_GL383576v1_alt [188024],chr19_GL383574v1_alt [155864],chr19_KI270866v1_alt [43156],chr19_KI270867v1_alt [233762],chr19_GL949746v1_alt [987716],chr20_GL383577v2_alt [128386],chr20_KI270869v1_alt [118774],chr20_KI270871v1_alt [58661],chr20_KI270870v1_alt [183433],chr21_GL383578v2_alt [63917],chr21_KI270874v1_alt [166743],chr21_KI270873v1_alt [143900],chr21_GL383579v2_alt [201197],chr21_GL383580v2_alt [74653],chr21_GL383581v2_alt [116689],chr21_KI270872v1_alt [82692],chr22_KI270875v1_alt [259914],chr22_KI270878v1_alt [186262],chr22_KI270879v1_alt [304135],chr22_KI270876v1_alt [263666],chr22_KI270877v1_alt [101331],chr22_GL383583v2_alt [96924],chr22_GL383582v2_alt [162811],chrX_KI270880v1_alt [284869],chrX_KI270881v1_alt [144206],chr19_KI270882v1_alt [248807],chr19_KI270883v1_alt [170399],chr19_KI270884v1_alt [157053],chr19_KI270885v1_alt [171027],chr19_KI270886v1_alt [204239],chr19_KI270887v1_alt [209512],chr19_KI270888v1_alt [155532],chr19_KI270889v1_alt [170698],chr19_KI270890v1_alt [184499],chr19_KI270891v1_alt [170680],chr1_KI270892v1_alt [162212],chr2_KI270894v1_alt [214158],chr2_KI270893v1_alt [161218],chr3_KI270895v1_alt [162896],chr4_KI270896v1_alt [378547],chr5_KI270897v1_alt [1144418],chr5_KI270898v1_alt [130957],chr6_GL000251v2_alt [4795265],chr7_KI270899v1_alt [190869],chr8_KI270901v1_alt [136959],chr8_KI270900v1_alt [318687],chr11_KI270902v1_alt [106711],chr11_KI270903v1_alt [214625],chr12_KI270904v1_alt [572349],chr15_KI270906v1_alt [196384],chr15_KI270905v1_alt [5161414],chr17_KI270907v1_alt [137721],chr17_KI270910v1_alt [157099],chr17_KI270909v1_alt [325800],chr17_JH159148v1_alt [88070],chr17_KI270908v1_alt [1423190],chr18_KI270912v1_alt [174061],chr18_KI270911v1_alt [157710],chr19_GL949747v2_alt [729520],chr22_KB663609v1_alt [74013],chrX_KI270913v1_alt [274009],chr19_KI270914v1_alt [205194],chr19_KI270915v1_alt [170665],chr19_KI270916v1_alt [184516],chr19_KI270917v1_alt [190932],chr19_KI270918v1_alt [123111],chr19_KI270919v1_alt [170701],chr19_KI270920v1_alt [198005],chr19_KI270921v1_alt [282224],chr19_KI270922v1_alt [187935],chr19_KI270923v1_alt [189352],chr3_KI270924v1_alt [166540],chr4_KI270925v1_alt [555799],chr6_GL000252v2_alt [4604811],chr8_KI270926v1_alt [229282],chr11_KI270927v1_alt [218612],chr19_GL949748v2_alt [1064304],chr22_KI270928v1_alt [176103],chr19_KI270929v1_alt [186203],chr19_KI270930v1_alt [200773],chr19_KI270931v1_alt [170148],chr19_KI270932v1_alt [215732],chr19_KI270933v1_alt [170537],chr19_GL000209v2_alt [177381],chr3_KI270934v1_alt [163458],chr6_GL000253v2_alt [4677643],chr19_GL949749v2_alt [1091841],chr3_KI270935v1_alt [197351],chr6_GL000254v2_alt [4827813],chr19_GL949750v2_alt [1066390],chr3_KI270936v1_alt [164170],chr6_GL000255v2_alt [4606388],chr19_GL949751v2_alt [1002683],chr3_KI270937v1_alt [165607],chr6_GL000256v2_alt [4929269],chr19_GL949752v1_alt [987100],chr6_KI270758v1_alt [76752],chr19_GL949753v2_alt [796479],chr19_KI270938v1_alt [1066800],chrM [16569],chrUn_KI270302v1 [2274],chrUn_KI270304v1 [2165],chrUn_KI270303v1 [1942],chrUn_KI270305v1 [1472],chrUn_KI270322v1 [21476],chrUn_KI270320v1 [4416],chrUn_KI270310v1 [1201],chrUn_KI270316v1 [1444],chrUn_KI270315v1 [2276],chrUn_KI270312v1 [998],chrUn_KI270311v1 [12399],chrUn_KI270317v1 [37690],chrUn_KI270412v1 [1179],chrUn_KI270411v1 [2646],chrUn_KI270414v1 [2489],chrUn_KI270419v1 [1029],chrUn_KI270418v1 [2145],chrUn_KI270420v1 [2321],chrUn_KI270424v1 [2140],chrUn_KI270417v1 [2043],chrUn_KI270422v1 [1445],chrUn_KI270423v1 [981],chrUn_KI270425v1 [1884],chrUn_KI270429v1 [1361],chrUn_KI270442v1 [392061],chrUn_KI270466v1 [1233],chrUn_KI270465v1 [1774],chrUn_KI270467v1 [3920],chrUn_KI270435v1 [92983],chrUn_KI270438v1 [112505],chrUn_KI270468v1 [4055],chrUn_KI270510v1 [2415],chrUn_KI270509v1 [2318],chrUn_KI270518v1 [2186],chrUn_KI270508v1 [1951],chrUn_KI270516v1 [1300],chrUn_KI270512v1 [22689],chrUn_KI270519v1 [138126],chrUn_KI270522v1 [5674],chrUn_KI270511v1 [8127],chrUn_KI270515v1 [6361],chrUn_KI270507v1 [5353],chrUn_KI270517v1 [3253],chrUn_KI270529v1 [1899],chrUn_KI270528v1 [2983],chrUn_KI270530v1 [2168],chrUn_KI270539v1 [993],chrUn_KI270538v1 [91309],chrUn_KI270544v1 [1202],chrUn_KI270548v1 [1599],chrUn_KI270583v1 [1400],chrUn_KI270587v1 [2969],chrUn_KI270580v1 [1553],chrUn_KI270581v1 [7046],chrUn_KI270579v1 [31033],chrUn_KI270589v1 [44474],chrUn_KI270590v1 [4685],chrUn_KI270584v1 [4513],chrUn_KI270582v1 [6504],chrUn_KI270588v1 [6158],chrUn_KI270593v1 [3041],chrUn_KI270591v1 [5796],chrUn_KI270330v1 [1652],chrUn_KI270329v1 [1040],chrUn_KI270334v1 [1368],chrUn_KI270333v1 [2699],chrUn_KI270335v1 [1048],chrUn_KI270338v1 [1428],chrUn_KI270340v1 [1428],chrUn_KI270336v1 [1026],chrUn_KI270337v1 [1121],chrUn_KI270363v1 [1803],chrUn_KI270364v1 [2855],chrUn_KI270362v1 [3530],chrUn_KI270366v1 [8320],chrUn_KI270378v1 [1048],chrUn_KI270379v1 [1045],chrUn_KI270389v1 [1298],chrUn_KI270390v1 [2387],chrUn_KI270387v1 [1537],chrUn_KI270395v1 [1143],chrUn_KI270396v1 [1880],chrUn_KI270388v1 [1216],chrUn_KI270394v1 [970],chrUn_KI270386v1 [1788],chrUn_KI270391v1 [1484],chrUn_KI270383v1 [1750],chrUn_KI270393v1 [1308],chrUn_KI270384v1 [1658],chrUn_KI270392v1 [971],chrUn_KI270381v1 [1930],chrUn_KI270385v1 [990],chrUn_KI270382v1 [4215],chrUn_KI270376v1 [1136],chrUn_KI270374v1 [2656],chrUn_KI270372v1 [1650],chrUn_KI270373v1 [1451],chrUn_KI270375v1 [2378],chrUn_KI270371v1 [2805],chrUn_KI270448v1 [7992],chrUn_KI270521v1 [7642],chrUn_GL000195v1 [182896],chrUn_GL000219v1 [179198],chrUn_GL000220v1 [161802],chrUn_GL000224v1 [179693],chrUn_KI270741v1 [157432],chrUn_GL000226v1 [15008],chrUn_GL000213v1 [164239],chrUn_KI270743v1 [210658],chrUn_KI270744v1 [168472],chrUn_KI270745v1 [41891],chrUn_KI270746v1 [66486],chrUn_KI270747v1 [198735],chrUn_KI270748v1 [93321],chrUn_KI270749v1 [158759],chrUn_KI270750v1 [148850],chrUn_KI270751v1 [150742],chrUn_KI270752v1 [27745],chrUn_KI270753v1 [62944],chrUn_KI270754v1 [40191],chrUn_KI270755v1 [36723],chrUn_KI270756v1 [79590],chrUn_KI270757v1 [71251],chrUn_GL000214v1 [137718],chrUn_KI270742v1 [186739],chrUn_GL000216v2 [176608],chrUn_GL000218v1 [161147],chrX [156040895],chrY [57227415],chrY_KI270740v1_random [37240]'"
      ]
     },
     "execution_count": 5,
     "metadata": {},
     "output_type": "execute_result"
    }
   ],
   "source": [
    "PyBallC.view('./ballc/HBA_191114_H1930001_CB60_CBV_1_P1-1-B1-A1.ballc', f=True)"
   ]
  },
  {
   "cell_type": "code",
   "execution_count": 6,
   "id": "9f3dbd49",
   "metadata": {
    "ExecuteTime": {
     "end_time": "2024-03-20T07:44:30.868038Z",
     "start_time": "2024-03-20T07:44:30.855095Z"
    }
   },
   "outputs": [
    {
     "data": {
      "text/plain": [
       "'BAllC file: ./ballc/HBA_191114_H1930001_CB60_CBV_1_P1-1-B1-A1.ballc\\nVersion: 0.1\\nMode: single-cell\\nAssembly: hg38_h1930001\\nNote:'"
      ]
     },
     "execution_count": 6,
     "metadata": {},
     "output_type": "execute_result"
    }
   ],
   "source": [
    "PyBallC.view('./ballc/HBA_191114_H1930001_CB60_CBV_1_P1-1-B1-A1.ballc', d=True)"
   ]
  },
  {
   "cell_type": "code",
   "execution_count": 7,
   "id": "ae1143cc",
   "metadata": {
    "ExecuteTime": {
     "end_time": "2024-03-20T07:44:35.482089Z",
     "start_time": "2024-03-20T07:44:35.281814Z"
    }
   },
   "outputs": [
    {
     "data": {
      "text/plain": [
       "'11\\t0\\t16'"
      ]
     },
     "execution_count": 7,
     "metadata": {},
     "output_type": "execute_result"
    }
   ],
   "source": [
    "PyBallC.query('./ballc/HBA_191114_H1930001_CB60_CBV_1_P1-1-B1-A1.ballc', 'chr1:267050-887100',\n",
    "      c='/gale/netapp/home/wtian/refs/hba-donor/h1930001_with_ChrL/h1930001.fa.cmeta.gz',\n",
    "      x='CCC', s='+', o='sum')"
   ]
  },
  {
   "cell_type": "code",
   "execution_count": null,
   "id": "74443cab",
   "metadata": {},
   "outputs": [],
   "source": [
    "def _check_for_ballcools(force_check=False, ):\n",
    "    if settings._bedtools_installed and not force_check:\n",
    "    return True"
   ]
  },
  {
   "cell_type": "code",
   "execution_count": null,
   "id": "134e5e91",
   "metadata": {},
   "outputs": [],
   "source": []
  },
  {
   "cell_type": "code",
   "execution_count": 177,
   "id": "249a7524",
   "metadata": {
    "ExecuteTime": {
     "end_time": "2024-03-12T20:39:50.479340Z",
     "start_time": "2024-03-12T20:39:50.439831Z"
    }
   },
   "outputs": [
    {
     "ename": "ValueError",
     "evalue": "Length mismatch: Expected axis has 458 elements, new values have 6 elements",
     "output_type": "error",
     "traceback": [
      "\u001b[0;31m---------------------------------------------------------------------------\u001b[0m",
      "\u001b[0;31mValueError\u001b[0m                                Traceback (most recent call last)",
      "\u001b[0;32m~/sapiens/systmp/ipykernel_1537/2272939510.py\u001b[0m in \u001b[0;36m<module>\u001b[0;34m\u001b[0m\n\u001b[0;32m----> 1\u001b[0;31m \u001b[0mparse_mcrecords\u001b[0m\u001b[0;34m(\u001b[0m\u001b[0ma\u001b[0m\u001b[0;34m)\u001b[0m\u001b[0;34m\u001b[0m\u001b[0;34m\u001b[0m\u001b[0m\n\u001b[0m",
      "\u001b[0;32m~/sapiens/systmp/ipykernel_1537/4080984233.py\u001b[0m in \u001b[0;36mparse_mcrecords\u001b[0;34m(stdout_data)\u001b[0m\n\u001b[1;32m      1\u001b[0m \u001b[0;32mdef\u001b[0m \u001b[0mparse_mcrecords\u001b[0m\u001b[0;34m(\u001b[0m\u001b[0mstdout_data\u001b[0m\u001b[0;34m)\u001b[0m\u001b[0;34m:\u001b[0m\u001b[0;34m\u001b[0m\u001b[0;34m\u001b[0m\u001b[0m\n\u001b[1;32m      2\u001b[0m     \u001b[0mdf\u001b[0m \u001b[0;34m=\u001b[0m \u001b[0mpd\u001b[0m\u001b[0;34m.\u001b[0m\u001b[0mDataFrame\u001b[0m\u001b[0;34m(\u001b[0m\u001b[0ml\u001b[0m\u001b[0;34m.\u001b[0m\u001b[0msplit\u001b[0m\u001b[0;34m(\u001b[0m\u001b[0;34m)\u001b[0m \u001b[0;32mfor\u001b[0m \u001b[0ml\u001b[0m \u001b[0;32min\u001b[0m \u001b[0mstdout_data\u001b[0m\u001b[0;34m.\u001b[0m\u001b[0msplit\u001b[0m\u001b[0;34m(\u001b[0m\u001b[0;34m'\\n'\u001b[0m\u001b[0;34m)\u001b[0m \u001b[0;32mif\u001b[0m \u001b[0mlen\u001b[0m\u001b[0;34m(\u001b[0m\u001b[0ml\u001b[0m\u001b[0;34m)\u001b[0m\u001b[0;34m>\u001b[0m\u001b[0;36m0\u001b[0m\u001b[0;34m)\u001b[0m\u001b[0;34m\u001b[0m\u001b[0;34m\u001b[0m\u001b[0m\n\u001b[0;32m----> 3\u001b[0;31m     \u001b[0mdf\u001b[0m\u001b[0;34m.\u001b[0m\u001b[0mcolumns\u001b[0m \u001b[0;34m=\u001b[0m \u001b[0;34m[\u001b[0m\u001b[0;34m'chr'\u001b[0m\u001b[0;34m,\u001b[0m\u001b[0;34m'pos'\u001b[0m\u001b[0;34m,\u001b[0m\u001b[0;34m'strand'\u001b[0m\u001b[0;34m,\u001b[0m\u001b[0;34m'context'\u001b[0m\u001b[0;34m,\u001b[0m\u001b[0;34m'mc'\u001b[0m\u001b[0;34m,\u001b[0m\u001b[0;34m'cov'\u001b[0m\u001b[0;34m]\u001b[0m \u001b[0;32mif\u001b[0m \u001b[0mdf\u001b[0m\u001b[0;34m.\u001b[0m\u001b[0mshape\u001b[0m\u001b[0;34m[\u001b[0m\u001b[0;36m1\u001b[0m\u001b[0;34m]\u001b[0m\u001b[0;34m>\u001b[0m\u001b[0;36m4\u001b[0m \u001b[0;32melse\u001b[0m \u001b[0;34m[\u001b[0m\u001b[0;34m'chr'\u001b[0m\u001b[0;34m,\u001b[0m\u001b[0;34m'pos'\u001b[0m\u001b[0;34m,\u001b[0m\u001b[0;34m'mc'\u001b[0m\u001b[0;34m,\u001b[0m\u001b[0;34m'cov'\u001b[0m\u001b[0;34m]\u001b[0m\u001b[0;34m\u001b[0m\u001b[0;34m\u001b[0m\u001b[0m\n\u001b[0m\u001b[1;32m      4\u001b[0m     \u001b[0;32mreturn\u001b[0m \u001b[0mdf\u001b[0m\u001b[0;34m\u001b[0m\u001b[0;34m\u001b[0m\u001b[0m\n",
      "\u001b[0;32m/data/wtian/local/miniconda3/envs/sapiens/lib/python3.8/site-packages/pandas/core/generic.py\u001b[0m in \u001b[0;36m__setattr__\u001b[0;34m(self, name, value)\u001b[0m\n\u001b[1;32m   5498\u001b[0m         \u001b[0;32mtry\u001b[0m\u001b[0;34m:\u001b[0m\u001b[0;34m\u001b[0m\u001b[0;34m\u001b[0m\u001b[0m\n\u001b[1;32m   5499\u001b[0m             \u001b[0mobject\u001b[0m\u001b[0;34m.\u001b[0m\u001b[0m__getattribute__\u001b[0m\u001b[0;34m(\u001b[0m\u001b[0mself\u001b[0m\u001b[0;34m,\u001b[0m \u001b[0mname\u001b[0m\u001b[0;34m)\u001b[0m\u001b[0;34m\u001b[0m\u001b[0;34m\u001b[0m\u001b[0m\n\u001b[0;32m-> 5500\u001b[0;31m             \u001b[0;32mreturn\u001b[0m \u001b[0mobject\u001b[0m\u001b[0;34m.\u001b[0m\u001b[0m__setattr__\u001b[0m\u001b[0;34m(\u001b[0m\u001b[0mself\u001b[0m\u001b[0;34m,\u001b[0m \u001b[0mname\u001b[0m\u001b[0;34m,\u001b[0m \u001b[0mvalue\u001b[0m\u001b[0;34m)\u001b[0m\u001b[0;34m\u001b[0m\u001b[0;34m\u001b[0m\u001b[0m\n\u001b[0m\u001b[1;32m   5501\u001b[0m         \u001b[0;32mexcept\u001b[0m \u001b[0mAttributeError\u001b[0m\u001b[0;34m:\u001b[0m\u001b[0;34m\u001b[0m\u001b[0;34m\u001b[0m\u001b[0m\n\u001b[1;32m   5502\u001b[0m             \u001b[0;32mpass\u001b[0m\u001b[0;34m\u001b[0m\u001b[0;34m\u001b[0m\u001b[0m\n",
      "\u001b[0;32m/data/wtian/local/miniconda3/envs/sapiens/lib/python3.8/site-packages/pandas/_libs/properties.pyx\u001b[0m in \u001b[0;36mpandas._libs.properties.AxisProperty.__set__\u001b[0;34m()\u001b[0m\n",
      "\u001b[0;32m/data/wtian/local/miniconda3/envs/sapiens/lib/python3.8/site-packages/pandas/core/generic.py\u001b[0m in \u001b[0;36m_set_axis\u001b[0;34m(self, axis, labels)\u001b[0m\n\u001b[1;32m    764\u001b[0m     \u001b[0;32mdef\u001b[0m \u001b[0m_set_axis\u001b[0m\u001b[0;34m(\u001b[0m\u001b[0mself\u001b[0m\u001b[0;34m,\u001b[0m \u001b[0maxis\u001b[0m\u001b[0;34m:\u001b[0m \u001b[0mint\u001b[0m\u001b[0;34m,\u001b[0m \u001b[0mlabels\u001b[0m\u001b[0;34m:\u001b[0m \u001b[0mIndex\u001b[0m\u001b[0;34m)\u001b[0m \u001b[0;34m->\u001b[0m \u001b[0;32mNone\u001b[0m\u001b[0;34m:\u001b[0m\u001b[0;34m\u001b[0m\u001b[0;34m\u001b[0m\u001b[0m\n\u001b[1;32m    765\u001b[0m         \u001b[0mlabels\u001b[0m \u001b[0;34m=\u001b[0m \u001b[0mensure_index\u001b[0m\u001b[0;34m(\u001b[0m\u001b[0mlabels\u001b[0m\u001b[0;34m)\u001b[0m\u001b[0;34m\u001b[0m\u001b[0;34m\u001b[0m\u001b[0m\n\u001b[0;32m--> 766\u001b[0;31m         \u001b[0mself\u001b[0m\u001b[0;34m.\u001b[0m\u001b[0m_mgr\u001b[0m\u001b[0;34m.\u001b[0m\u001b[0mset_axis\u001b[0m\u001b[0;34m(\u001b[0m\u001b[0maxis\u001b[0m\u001b[0;34m,\u001b[0m \u001b[0mlabels\u001b[0m\u001b[0;34m)\u001b[0m\u001b[0;34m\u001b[0m\u001b[0;34m\u001b[0m\u001b[0m\n\u001b[0m\u001b[1;32m    767\u001b[0m         \u001b[0mself\u001b[0m\u001b[0;34m.\u001b[0m\u001b[0m_clear_item_cache\u001b[0m\u001b[0;34m(\u001b[0m\u001b[0;34m)\u001b[0m\u001b[0;34m\u001b[0m\u001b[0;34m\u001b[0m\u001b[0m\n\u001b[1;32m    768\u001b[0m \u001b[0;34m\u001b[0m\u001b[0m\n",
      "\u001b[0;32m/data/wtian/local/miniconda3/envs/sapiens/lib/python3.8/site-packages/pandas/core/internals/managers.py\u001b[0m in \u001b[0;36mset_axis\u001b[0;34m(self, axis, new_labels)\u001b[0m\n\u001b[1;32m    214\u001b[0m     \u001b[0;32mdef\u001b[0m \u001b[0mset_axis\u001b[0m\u001b[0;34m(\u001b[0m\u001b[0mself\u001b[0m\u001b[0;34m,\u001b[0m \u001b[0maxis\u001b[0m\u001b[0;34m:\u001b[0m \u001b[0mint\u001b[0m\u001b[0;34m,\u001b[0m \u001b[0mnew_labels\u001b[0m\u001b[0;34m:\u001b[0m \u001b[0mIndex\u001b[0m\u001b[0;34m)\u001b[0m \u001b[0;34m->\u001b[0m \u001b[0;32mNone\u001b[0m\u001b[0;34m:\u001b[0m\u001b[0;34m\u001b[0m\u001b[0;34m\u001b[0m\u001b[0m\n\u001b[1;32m    215\u001b[0m         \u001b[0;31m# Caller is responsible for ensuring we have an Index object.\u001b[0m\u001b[0;34m\u001b[0m\u001b[0;34m\u001b[0m\u001b[0;34m\u001b[0m\u001b[0m\n\u001b[0;32m--> 216\u001b[0;31m         \u001b[0mself\u001b[0m\u001b[0;34m.\u001b[0m\u001b[0m_validate_set_axis\u001b[0m\u001b[0;34m(\u001b[0m\u001b[0maxis\u001b[0m\u001b[0;34m,\u001b[0m \u001b[0mnew_labels\u001b[0m\u001b[0;34m)\u001b[0m\u001b[0;34m\u001b[0m\u001b[0;34m\u001b[0m\u001b[0m\n\u001b[0m\u001b[1;32m    217\u001b[0m         \u001b[0mself\u001b[0m\u001b[0;34m.\u001b[0m\u001b[0maxes\u001b[0m\u001b[0;34m[\u001b[0m\u001b[0maxis\u001b[0m\u001b[0;34m]\u001b[0m \u001b[0;34m=\u001b[0m \u001b[0mnew_labels\u001b[0m\u001b[0;34m\u001b[0m\u001b[0;34m\u001b[0m\u001b[0m\n\u001b[1;32m    218\u001b[0m \u001b[0;34m\u001b[0m\u001b[0m\n",
      "\u001b[0;32m/data/wtian/local/miniconda3/envs/sapiens/lib/python3.8/site-packages/pandas/core/internals/base.py\u001b[0m in \u001b[0;36m_validate_set_axis\u001b[0;34m(self, axis, new_labels)\u001b[0m\n\u001b[1;32m     55\u001b[0m \u001b[0;34m\u001b[0m\u001b[0m\n\u001b[1;32m     56\u001b[0m         \u001b[0;32melif\u001b[0m \u001b[0mnew_len\u001b[0m \u001b[0;34m!=\u001b[0m \u001b[0mold_len\u001b[0m\u001b[0;34m:\u001b[0m\u001b[0;34m\u001b[0m\u001b[0;34m\u001b[0m\u001b[0m\n\u001b[0;32m---> 57\u001b[0;31m             raise ValueError(\n\u001b[0m\u001b[1;32m     58\u001b[0m                 \u001b[0;34mf\"Length mismatch: Expected axis has {old_len} elements, new \"\u001b[0m\u001b[0;34m\u001b[0m\u001b[0;34m\u001b[0m\u001b[0m\n\u001b[1;32m     59\u001b[0m                 \u001b[0;34mf\"values have {new_len} elements\"\u001b[0m\u001b[0;34m\u001b[0m\u001b[0;34m\u001b[0m\u001b[0m\n",
      "\u001b[0;31mValueError\u001b[0m: Length mismatch: Expected axis has 458 elements, new values have 6 elements"
     ]
    }
   ],
   "source": [
    "parse_mcrecords(a)"
   ]
  },
  {
   "cell_type": "code",
   "execution_count": 125,
   "id": "19e65d4c",
   "metadata": {
    "ExecuteTime": {
     "end_time": "2024-03-12T20:16:41.727892Z",
     "start_time": "2024-03-12T20:16:41.499073Z"
    }
   },
   "outputs": [
    {
     "name": "stdout",
     "output_type": "stream",
     "text": [
      "chrY\t267050\t1\t1\r\n",
      "chrY\t267058\t0\t1\r\n",
      "chrY\t267060\t1\t1\r\n",
      "chrY\t267062\t0\t1\r\n",
      "chrY\t267063\t0\t1\r\n",
      "chrY\t267067\t0\t1\r\n",
      "chrY\t267070\t0\t1\r\n",
      "chrY\t267071\t0\t1\r\n",
      "chrY\t267072\t0\t1\r\n",
      "chrY\t267075\t0\t1\r\n"
     ]
    }
   ],
   "source": [
    "!ballcools query ./ballc/HBA_191114_H1930001_CB60_CBV_1_P1-1-B1-A1.ballc chrY|head"
   ]
  },
  {
   "cell_type": "code",
   "execution_count": 114,
   "id": "6d4cd6a8",
   "metadata": {
    "ExecuteTime": {
     "end_time": "2024-03-12T19:56:59.664536Z",
     "start_time": "2024-03-12T19:56:59.650336Z"
    }
   },
   "outputs": [
    {
     "name": "stdout",
     "output_type": "stream",
     "text": [
      "BAllC file: ./ballc/HBA_191114_H1930001_CB60_CBV_1_P1-1-B1-A1.ballc\n",
      "Version: 0.1\n",
      "Mode: single-cell\n",
      "Assembly: hg38_h1930001\n",
      "Note: \n",
      "References [length]: chr1 [248956422],chr10 [133797422],chr11 [135086622],chr11_KI270721v1_random [100316],chr12 [133275309],chr13 [114364328],chr14 [107043718],chr14_GL000009v2_random [201709],chr14_GL000225v1_random [211173],chr14_KI270722v1_random [194050],chr14_GL000194v1_random [191469],chr14_KI270723v1_random [38115],chr14_KI270724v1_random [39555],chr14_KI270725v1_random [172810],chr14_KI270726v1_random [43739],chr15 [101991189],chr15_KI270727v1_random [448248],chr16 [90338345],chr16_KI270728v1_random [1872759],chr17 [83257441],chr17_GL000205v2_random [185591],chr17_KI270729v1_random [280839],chr17_KI270730v1_random [112551],chr18 [80373285],chr19 [58617616],chr1_KI270706v1_random [175055],chr1_KI270707v1_random [32032],chr1_KI270708v1_random [127682],chr1_KI270709v1_random [66860],chr1_KI270710v1_random [40176],chr1_KI270711v1_random [42210],chr1_KI270712v1_random [176043],chr1_KI270713v1_random [40745],chr1_KI270714v1_random [41717],chr2 [242193529],chr20 [64444167],chr21 [46709983],chr22 [50818468],chr22_KI270731v1_random [150754],chr22_KI270732v1_random [41543],chr22_KI270733v1_random [179772],chr22_KI270734v1_random [165050],chr22_KI270735v1_random [42811],chr22_KI270736v1_random [181920],chr22_KI270737v1_random [103838],chr22_KI270738v1_random [99375],chr22_KI270739v1_random [73985],chr2_KI270715v1_random [161471],chr2_KI270716v1_random [153799],chr3 [198295559],chr3_GL000221v1_random [155397],chr4 [190214555],chr4_GL000008v2_random [209709],chr5 [181538259],chr5_GL000208v1_random [92689],chr6 [170805979],chr7 [159345973],chr8 [145138636],chr9 [138394717],chr9_KI270717v1_random [40062],chr9_KI270718v1_random [38054],chr9_KI270719v1_random [176845],chr9_KI270720v1_random [39050],chr1_KI270762v1_alt [354444],chr1_KI270766v1_alt [256271],chr1_KI270760v1_alt [109528],chr1_KI270765v1_alt [185285],chr1_GL383518v1_alt [182439],chr1_GL383519v1_alt [110268],chr1_GL383520v2_alt [366580],chr1_KI270764v1_alt [50258],chr1_KI270763v1_alt [911658],chr1_KI270759v1_alt [425601],chr1_KI270761v1_alt [165834],chr2_KI270770v1_alt [136240],chr2_KI270773v1_alt [70887],chr2_KI270774v1_alt [223625],chr2_KI270769v1_alt [120616],chr2_GL383521v1_alt [143390],chr2_KI270772v1_alt [133041],chr2_KI270775v1_alt [138019],chr2_KI270771v1_alt [110395],chr2_KI270768v1_alt [110099],chr2_GL582966v2_alt [96131],chr2_GL383522v1_alt [123821],chr2_KI270776v1_alt [174166],chr2_KI270767v1_alt [161578],chr3_JH636055v2_alt [173151],chr3_KI270783v1_alt [109187],chr3_KI270780v1_alt [224108],chr3_GL383526v1_alt [180671],chr3_KI270777v1_alt [173649],chr3_KI270778v1_alt [248252],chr3_KI270781v1_alt [113034],chr3_KI270779v1_alt [205312],chr3_KI270782v1_alt [162429],chr3_KI270784v1_alt [184404],chr4_KI270790v1_alt [220246],chr4_GL383528v1_alt [376187],chr4_KI270787v1_alt [111943],chr4_GL000257v2_alt [586476],chr4_KI270788v1_alt [158965],chr4_GL383527v1_alt [164536],chr4_KI270785v1_alt [119912],chr4_KI270789v1_alt [205944],chr4_KI270786v1_alt [244096],chr5_KI270793v1_alt [126136],chr5_KI270792v1_alt [179043],chr5_KI270791v1_alt [195710],chr5_GL383532v1_alt [82728],chr5_GL949742v1_alt [226852],chr5_KI270794v1_alt [164558],chr5_GL339449v2_alt [1612928],chr5_GL383530v1_alt [101241],chr5_KI270796v1_alt [172708],chr5_GL383531v1_alt [173459],chr5_KI270795v1_alt [131892],chr6_GL000250v2_alt [4672374],chr6_KI270800v1_alt [175808],chr6_KI270799v1_alt [152148],chr6_GL383533v1_alt [124736],chr6_KI270801v1_alt [870480],chr6_KI270802v1_alt [75005],chr6_KB021644v2_alt [185823],chr6_KI270797v1_alt [197536],chr6_KI270798v1_alt [271782],chr7_KI270804v1_alt [157952],chr7_KI270809v1_alt [209586],chr7_KI270806v1_alt [158166],chr7_GL383534v2_alt [119183],chr7_KI270803v1_alt [1111570],chr7_KI270808v1_alt [271455],chr7_KI270807v1_alt [126434],chr7_KI270805v1_alt [209988],chr8_KI270818v1_alt [145606],chr8_KI270812v1_alt [282736],chr8_KI270811v1_alt [292436],chr8_KI270821v1_alt [985506],chr8_KI270813v1_alt [300230],chr8_KI270822v1_alt [624492],chr8_KI270814v1_alt [141812],chr8_KI270810v1_alt [374415],chr8_KI270819v1_alt [133535],chr8_KI270820v1_alt [36640],chr8_KI270817v1_alt [158983],chr8_KI270816v1_alt [305841],chr8_KI270815v1_alt [132244],chr9_GL383539v1_alt [162988],chr9_GL383540v1_alt [71551],chr9_GL383541v1_alt [171286],chr9_GL383542v1_alt [60032],chr9_KI270823v1_alt [439082],chr10_GL383545v1_alt [179254],chr10_KI270824v1_alt [181496],chr10_GL383546v1_alt [309802],chr10_KI270825v1_alt [188315],chr11_KI270832v1_alt [210133],chr11_KI270830v1_alt [177092],chr11_KI270831v1_alt [296895],chr11_KI270829v1_alt [204059],chr11_GL383547v1_alt [154407],chr11_JH159136v1_alt [200998],chr11_JH159137v1_alt [191409],chr11_KI270827v1_alt [67707],chr11_KI270826v1_alt [186169],chr12_GL877875v1_alt [167313],chr12_GL877876v1_alt [408271],chr12_KI270837v1_alt [40090],chr12_GL383549v1_alt [120804],chr12_KI270835v1_alt [238139],chr12_GL383550v2_alt [169178],chr12_GL383552v1_alt [138655],chr12_GL383553v2_alt [152874],chr12_KI270834v1_alt [119498],chr12_GL383551v1_alt [184319],chr12_KI270833v1_alt [76061],chr12_KI270836v1_alt [56134],chr13_KI270840v1_alt [191684],chr13_KI270839v1_alt [180306],chr13_KI270843v1_alt [103832],chr13_KI270841v1_alt [169134],chr13_KI270838v1_alt [306913],chr13_KI270842v1_alt [37287],chr14_KI270844v1_alt [322166],chr14_KI270847v1_alt [1511111],chr14_KI270845v1_alt [180703],chr14_KI270846v1_alt [1351393],chr15_KI270852v1_alt [478999],chr15_KI270851v1_alt [263054],chr15_KI270848v1_alt [327382],chr15_GL383554v1_alt [296527],chr15_KI270849v1_alt [244917],chr15_GL383555v2_alt [388773],chr15_KI270850v1_alt [430880],chr16_KI270854v1_alt [134193],chr16_KI270856v1_alt [63982],chr16_KI270855v1_alt [232857],chr16_KI270853v1_alt [2659700],chr16_GL383556v1_alt [192462],chr16_GL383557v1_alt [89672],chr17_GL383563v3_alt [375691],chr17_KI270862v1_alt [391357],chr17_KI270861v1_alt [196688],chr17_KI270857v1_alt [2877074],chr17_JH159146v1_alt [278131],chr17_JH159147v1_alt [70345],chr17_GL383564v2_alt [133151],chr17_GL000258v2_alt [1821992],chr17_GL383565v1_alt [223995],chr17_KI270858v1_alt [235827],chr17_KI270859v1_alt [108763],chr17_GL383566v1_alt [90219],chr17_KI270860v1_alt [178921],chr18_KI270864v1_alt [111737],chr18_GL383567v1_alt [289831],chr18_GL383570v1_alt [164789],chr18_GL383571v1_alt [198278],chr18_GL383568v1_alt [104552],chr18_GL383569v1_alt [167950],chr18_GL383572v1_alt [159547],chr18_KI270863v1_alt [167999],chr19_KI270868v1_alt [61734],chr19_KI270865v1_alt [52969],chr19_GL383573v1_alt [385657],chr19_GL383575v2_alt [170222],chr19_GL383576v1_alt [188024],chr19_GL383574v1_alt [155864],chr19_KI270866v1_alt [43156],chr19_KI270867v1_alt [233762],chr19_GL949746v1_alt [987716],chr20_GL383577v2_alt [128386],chr20_KI270869v1_alt [118774],chr20_KI270871v1_alt [58661],chr20_KI270870v1_alt [183433],chr21_GL383578v2_alt [63917],chr21_KI270874v1_alt [166743],chr21_KI270873v1_alt [143900],chr21_GL383579v2_alt [201197],chr21_GL383580v2_alt [74653],chr21_GL383581v2_alt [116689],chr21_KI270872v1_alt [82692],chr22_KI270875v1_alt [259914],chr22_KI270878v1_alt [186262],chr22_KI270879v1_alt [304135],chr22_KI270876v1_alt [263666],chr22_KI270877v1_alt [101331],chr22_GL383583v2_alt [96924],chr22_GL383582v2_alt [162811],chrX_KI270880v1_alt [284869],chrX_KI270881v1_alt [144206],chr19_KI270882v1_alt [248807],chr19_KI270883v1_alt [170399],chr19_KI270884v1_alt [157053],chr19_KI270885v1_alt [171027],chr19_KI270886v1_alt [204239],chr19_KI270887v1_alt [209512],chr19_KI270888v1_alt [155532],chr19_KI270889v1_alt [170698],chr19_KI270890v1_alt [184499],chr19_KI270891v1_alt [170680],chr1_KI270892v1_alt [162212],chr2_KI270894v1_alt [214158],chr2_KI270893v1_alt [161218],chr3_KI270895v1_alt [162896],chr4_KI270896v1_alt [378547],chr5_KI270897v1_alt [1144418],chr5_KI270898v1_alt [130957],chr6_GL000251v2_alt [4795265],chr7_KI270899v1_alt [190869],chr8_KI270901v1_alt [136959],chr8_KI270900v1_alt [318687],chr11_KI270902v1_alt [106711],chr11_KI270903v1_alt [214625],chr12_KI270904v1_alt [572349],chr15_KI270906v1_alt [196384],chr15_KI270905v1_alt [5161414],chr17_KI270907v1_alt [137721],chr17_KI270910v1_alt [157099],chr17_KI270909v1_alt [325800],chr17_JH159148v1_alt [88070],chr17_KI270908v1_alt [1423190],chr18_KI270912v1_alt [174061],chr18_KI270911v1_alt [157710],chr19_GL949747v2_alt [729520],chr22_KB663609v1_alt [74013],chrX_KI270913v1_alt [274009],chr19_KI270914v1_alt [205194],chr19_KI270915v1_alt [170665],chr19_KI270916v1_alt [184516],chr19_KI270917v1_alt [190932],chr19_KI270918v1_alt [123111],chr19_KI270919v1_alt [170701],chr19_KI270920v1_alt [198005],chr19_KI270921v1_alt [282224],chr19_KI270922v1_alt [187935],chr19_KI270923v1_alt [189352],chr3_KI270924v1_alt [166540],chr4_KI270925v1_alt [555799],chr6_GL000252v2_alt [4604811],chr8_KI270926v1_alt [229282],chr11_KI270927v1_alt [218612],chr19_GL949748v2_alt [1064304],chr22_KI270928v1_alt [176103],chr19_KI270929v1_alt [186203],chr19_KI270930v1_alt [200773],chr19_KI270931v1_alt [170148],chr19_KI270932v1_alt [215732],chr19_KI270933v1_alt [170537],chr19_GL000209v2_alt [177381],chr3_KI270934v1_alt [163458],chr6_GL000253v2_alt [4677643],chr19_GL949749v2_alt [1091841],chr3_KI270935v1_alt [197351],chr6_GL000254v2_alt [4827813],chr19_GL949750v2_alt [1066390],chr3_KI270936v1_alt [164170],chr6_GL000255v2_alt [4606388],chr19_GL949751v2_alt [1002683],chr3_KI270937v1_alt [165607],chr6_GL000256v2_alt [4929269],chr19_GL949752v1_alt [987100],chr6_KI270758v1_alt [76752],chr19_GL949753v2_alt [796479],chr19_KI270938v1_alt [1066800],chrM [16569],chrUn_KI270302v1 [2274],chrUn_KI270304v1 [2165],chrUn_KI270303v1 [1942],chrUn_KI270305v1 [1472],chrUn_KI270322v1 [21476],chrUn_KI270320v1 [4416],chrUn_KI270310v1 [1201],chrUn_KI270316v1 [1444],chrUn_KI270315v1 [2276],chrUn_KI270312v1 [998],chrUn_KI270311v1 [12399],chrUn_KI270317v1 [37690],chrUn_KI270412v1 [1179],chrUn_KI270411v1 [2646],chrUn_KI270414v1 [2489],chrUn_KI270419v1 [1029],chrUn_KI270418v1 [2145],chrUn_KI270420v1 [2321],chrUn_KI270424v1 [2140],chrUn_KI270417v1 [2043],chrUn_KI270422v1 [1445],chrUn_KI270423v1 [981],chrUn_KI270425v1 [1884],chrUn_KI270429v1 [1361],chrUn_KI270442v1 [392061],chrUn_KI270466v1 [1233],chrUn_KI270465v1 [1774],chrUn_KI270467v1 [3920],chrUn_KI270435v1 [92983],chrUn_KI270438v1 [112505],chrUn_KI270468v1 [4055],chrUn_KI270510v1 [2415],chrUn_KI270509v1 [2318],chrUn_KI270518v1 [2186],chrUn_KI270508v1 [1951],chrUn_KI270516v1 [1300],chrUn_KI270512v1 [22689],chrUn_KI270519v1 [138126],chrUn_KI270522v1 [5674],chrUn_KI270511v1 [8127],chrUn_KI270515v1 [6361],chrUn_KI270507v1 [5353],chrUn_KI270517v1 [3253],chrUn_KI270529v1 [1899],chrUn_KI270528v1 [2983],chrUn_KI270530v1 [2168],chrUn_KI270539v1 [993],chrUn_KI270538v1 [91309],chrUn_KI270544v1 [1202],chrUn_KI270548v1 [1599],chrUn_KI270583v1 [1400],chrUn_KI270587v1 [2969],chrUn_KI270580v1 [1553],chrUn_KI270581v1 [7046],chrUn_KI270579v1 [31033],chrUn_KI270589v1 [44474],chrUn_KI270590v1 [4685],chrUn_KI270584v1 [4513],chrUn_KI270582v1 [6504],chrUn_KI270588v1 [6158],chrUn_KI270593v1 [3041],chrUn_KI270591v1 [5796],chrUn_KI270330v1 [1652],chrUn_KI270329v1 [1040],chrUn_KI270334v1 [1368],chrUn_KI270333v1 [2699],chrUn_KI270335v1 [1048],chrUn_KI270338v1 [1428],chrUn_KI270340v1 [1428],chrUn_KI270336v1 [1026],chrUn_KI270337v1 [1121],chrUn_KI270363v1 [1803],chrUn_KI270364v1 [2855],chrUn_KI270362v1 [3530],chrUn_KI270366v1 [8320],chrUn_KI270378v1 [1048],chrUn_KI270379v1 [1045],chrUn_KI270389v1 [1298],chrUn_KI270390v1 [2387],chrUn_KI270387v1 [1537],chrUn_KI270395v1 [1143],chrUn_KI270396v1 [1880],chrUn_KI270388v1 [1216],chrUn_KI270394v1 [970],chrUn_KI270386v1 [1788],chrUn_KI270391v1 [1484],chrUn_KI270383v1 [1750],chrUn_KI270393v1 [1308],chrUn_KI270384v1 [1658],chrUn_KI270392v1 [971],chrUn_KI270381v1 [1930],chrUn_KI270385v1 [990],chrUn_KI270382v1 [4215],chrUn_KI270376v1 [1136],chrUn_KI270374v1 [2656],chrUn_KI270372v1 [1650],chrUn_KI270373v1 [1451],chrUn_KI270375v1 [2378],chrUn_KI270371v1 [2805],chrUn_KI270448v1 [7992],chrUn_KI270521v1 [7642],chrUn_GL000195v1 [182896],chrUn_GL000219v1 [179198],chrUn_GL000220v1 [161802],chrUn_GL000224v1 [179693],chrUn_KI270741v1 [157432],chrUn_GL000226v1 [15008],chrUn_GL000213v1 [164239],chrUn_KI270743v1 [210658],chrUn_KI270744v1 [168472],chrUn_KI270745v1 [41891],chrUn_KI270746v1 [66486],chrUn_KI270747v1 [198735],chrUn_KI270748v1 [93321],chrUn_KI270749v1 [158759],chrUn_KI270750v1 [148850],chrUn_KI270751v1 [150742],chrUn_KI270752v1 [27745],chrUn_KI270753v1 [62944],chrUn_KI270754v1 [40191],chrUn_KI270755v1 [36723],chrUn_KI270756v1 [79590],chrUn_KI270757v1 [71251],chrUn_GL000214v1 [137718],chrUn_KI270742v1 [186739],chrUn_GL000216v2 [176608],chrUn_GL000218v1 [161147],chrX [156040895],chrY [57227415],chrY_KI270740v1_random [37240]\n",
      "\n",
      "----------------------------------------\n",
      "\n"
     ]
    }
   ],
   "source": [
    "view('./ballc/HBA_191114_H1930001_CB60_CBV_1_P1-1-B1-A1.ballc',d=True,f=True,r=True)"
   ]
  },
  {
   "cell_type": "code",
   "execution_count": 116,
   "id": "1204659e",
   "metadata": {
    "ExecuteTime": {
     "end_time": "2024-03-12T19:58:07.390488Z",
     "start_time": "2024-03-12T19:58:04.243917Z"
    }
   },
   "outputs": [
    {
     "name": "stdout",
     "output_type": "stream",
     "text": [
      "chr1\t61443\t0\t1\n",
      "chr1\t61446\t0\t1\n",
      "chr1\t61449\t0\t1\n",
      "chr1\t61460\t0\t1\n",
      "chr1\t61469\t0\t1\n",
      "chr1\t61474\t0\t1\n",
      "chr1\t61485\t0\t1\n",
      "chr1\t61486\t0\t1\n",
      "chr1\t61494\t0\t1\n",
      "chr1\t61496\t0\t1\n",
      "^C\n"
     ]
    }
   ],
   "source": [
    "!ballcools view ./ballc/HBA_191114_H1930001_CB60_CBV_1_P1-1-B1-A1.ballc -r|head"
   ]
  },
  {
   "cell_type": "code",
   "execution_count": null,
   "id": "260f7544",
   "metadata": {},
   "outputs": [],
   "source": []
  },
  {
   "cell_type": "code",
   "execution_count": 46,
   "id": "3ac3be10",
   "metadata": {
    "ExecuteTime": {
     "end_time": "2024-03-12T19:10:14.243059Z",
     "start_time": "2024-03-12T19:10:14.233773Z"
    }
   },
   "outputs": [],
   "source": [
    "p = subprocess.Popen(['ballcools', \n",
    "                      'merge', \n",
    "                      '-h'],\n",
    "                     stdout=subprocess.PIPE,\n",
    "                     stderr=subprocess.PIPE,)"
   ]
  },
  {
   "cell_type": "code",
   "execution_count": 47,
   "id": "b61b6e84",
   "metadata": {
    "ExecuteTime": {
     "end_time": "2024-03-12T19:10:14.435074Z",
     "start_time": "2024-03-12T19:10:14.432401Z"
    }
   },
   "outputs": [],
   "source": [
    "stdout_data, stderr_data = p.communicate()\n",
    "\n",
    "stdout_data = stdout_data.decode()\n",
    "stderr_data = stderr_data.decode()"
   ]
  },
  {
   "cell_type": "code",
   "execution_count": 48,
   "id": "ed646e9c",
   "metadata": {
    "ExecuteTime": {
     "end_time": "2024-03-12T19:10:14.820028Z",
     "start_time": "2024-03-12T19:10:14.817584Z"
    }
   },
   "outputs": [
    {
     "name": "stdout",
     "output_type": "stream",
     "text": [
      "Merge BAllC files\n",
      "Usage: ballcools merge [OPTIONS] outputpath [ballcpaths...]\n",
      "\n",
      "Positionals:\n",
      "  outputpath TEXT REQUIRED    Output BAllC file path\n",
      "  ballcpaths TEXT ...         Paths of BAllC files to be merged. This option is exclusive from [-f,--filelist].\n",
      "\n",
      "Options:\n",
      "  -h,--help                   Print this help message and exit\n",
      "  -f,--filelist TEXT          File contains the paths to the BAllC files to be merged. One path per line. This option is exclusive from [ballcpaths].\n",
      "  -c,--chunksize INT [5000000] \n",
      "                              Chunksize in bp used in merging BAllCs. Bigger value may result in slightly faster running speed but larger memory.\n",
      "\n",
      "\n"
     ]
    }
   ],
   "source": [
    "print(stdout_data)\n",
    "print(stderr_data)"
   ]
  },
  {
   "cell_type": "code",
   "execution_count": null,
   "id": "6ce5600c",
   "metadata": {},
   "outputs": [],
   "source": [
    "\n",
    "\n",
    "merge\n",
    "Merge BAllC files\n",
    "Usage: ballcools merge [OPTIONS] outputpath [ballcpaths...]\n",
    "\n",
    "Positionals:\n",
    "  outputpath TEXT REQUIRED    Output BAllC file path\n",
    "  ballcpaths TEXT ...         Paths of BAllC files to be merged. This option is exclusive from [-f,--filelist].\n",
    "\n",
    "Options:\n",
    "  -h,--help                   Print this help message and exit\n",
    "  -f,--filelist TEXT          File contains the paths to the BAllC files to be merged. One path per line. This option is exclusive from [ballcpaths].\n",
    "  -c,--chunksize INT [5000000] \n",
    "                              Chunksize in bp used in merging BAllCs. Bigger value may result in slightly faster running speed but larger memory."
   ]
  },
  {
   "cell_type": "code",
   "execution_count": null,
   "id": "80dc246b",
   "metadata": {},
   "outputs": [],
   "source": []
  },
  {
   "cell_type": "code",
   "execution_count": null,
   "id": "b50f2fa4",
   "metadata": {},
   "outputs": [],
   "source": []
  },
  {
   "cell_type": "code",
   "execution_count": 42,
   "id": "8cc4858b",
   "metadata": {
    "ExecuteTime": {
     "end_time": "2024-03-12T19:09:00.834922Z",
     "start_time": "2024-03-12T19:09:00.832318Z"
    }
   },
   "outputs": [
    {
     "ename": "SyntaxError",
     "evalue": "invalid syntax (3685539035.py, line 1)",
     "output_type": "error",
     "traceback": [
      "\u001b[0;36m  File \u001b[0;32m\"/gale/netapp/home/wtian/sapiens/systmp/ipykernel_1537/3685539035.py\"\u001b[0;36m, line \u001b[0;32m1\u001b[0m\n\u001b[0;31m    fastapath TEXT REQUIRED     Genome FASTA file path\u001b[0m\n\u001b[0m              ^\u001b[0m\n\u001b[0;31mSyntaxError\u001b[0m\u001b[0;31m:\u001b[0m invalid syntax\n"
     ]
    }
   ],
   "source": [
    "\n"
   ]
  },
  {
   "cell_type": "code",
   "execution_count": null,
   "id": "3e54f586",
   "metadata": {},
   "outputs": [],
   "source": []
  }
 ],
 "metadata": {
  "kernelspec": {
   "display_name": "Python [conda env:sapiens]",
   "language": "python",
   "name": "conda-env-sapiens-py"
  },
  "language_info": {
   "codemirror_mode": {
    "name": "ipython",
    "version": 3
   },
   "file_extension": ".py",
   "mimetype": "text/x-python",
   "name": "python",
   "nbconvert_exporter": "python",
   "pygments_lexer": "ipython3",
   "version": "3.8.12"
  },
  "toc": {
   "base_numbering": 1,
   "nav_menu": {},
   "number_sections": true,
   "sideBar": true,
   "skip_h1_title": false,
   "title_cell": "Table of Contents",
   "title_sidebar": "Contents",
   "toc_cell": false,
   "toc_position": {},
   "toc_section_display": true,
   "toc_window_display": false
  }
 },
 "nbformat": 4,
 "nbformat_minor": 5
}
